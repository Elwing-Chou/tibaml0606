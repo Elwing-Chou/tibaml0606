{
  "nbformat": 4,
  "nbformat_minor": 0,
  "metadata": {
    "colab": {
      "name": "cnn.ipynb",
      "provenance": [],
      "authorship_tag": "ABX9TyNfXuJJvzwzEaOk+P0u9uEO",
      "include_colab_link": true
    },
    "kernelspec": {
      "name": "python3",
      "display_name": "Python 3"
    },
    "language_info": {
      "name": "python"
    },
    "accelerator": "GPU",
    "gpuClass": "standard"
  },
  "cells": [
    {
      "cell_type": "markdown",
      "metadata": {
        "id": "view-in-github",
        "colab_type": "text"
      },
      "source": [
        "<a href=\"https://colab.research.google.com/github/Elwing-Chou/tibaml0606/blob/main/cnn.ipynb\" target=\"_parent\"><img src=\"https://colab.research.google.com/assets/colab-badge.svg\" alt=\"Open In Colab\"/></a>"
      ]
    },
    {
      "cell_type": "code",
      "execution_count": 41,
      "metadata": {
        "id": "WB8bvOA4uOY4"
      },
      "outputs": [],
      "source": [
        "from tensorflow.keras.datasets.cifar10 import load_data\n",
        "(x_train, y_train), (x_test, y_test) = load_data()"
      ]
    },
    {
      "cell_type": "code",
      "source": [
        "print(x_train.shape)\n",
        "print(y_train.shape)\n",
        "print(x_test.shape)\n",
        "print(y_test.shape)"
      ],
      "metadata": {
        "colab": {
          "base_uri": "https://localhost:8080/"
        },
        "id": "Lp4mLWN7u8Sh",
        "outputId": "07975dba-d665-43bf-e391-83b84058f16d"
      },
      "execution_count": 42,
      "outputs": [
        {
          "output_type": "stream",
          "name": "stdout",
          "text": [
            "(50000, 32, 32, 3)\n",
            "(50000, 1)\n",
            "(10000, 32, 32, 3)\n",
            "(10000, 1)\n"
          ]
        }
      ]
    },
    {
      "cell_type": "code",
      "source": [
        "trans = [\n",
        "    \"airplane\",\t\t\t\t\t\t\t\t\t\t\n",
        "    \"automobile\",\t\t\t\t\t\t\t\t\t\t\n",
        "    \"bird\",\t\t\t\t\t\t\t\t\t\t\n",
        "    \"cat\",\t\t\t\t\t\t\t\t\t\t\n",
        "    \"deer\",\t\t\t\t\t\t\t\t\t\t\n",
        "    \"dog\",\t\t\t\t\t\t\t\t\t\t\n",
        "    \"frog\",\t\t\t\t\t\t\t\t\t\t\n",
        "    \"horse\",\t\t\t\t\t\t\t\t\t\t\n",
        "    \"ship\",\t\t\t\t\t\t\t\t\t\t\n",
        "    \"truck\",\n",
        "]"
      ],
      "metadata": {
        "id": "vIuPSAahvrwZ"
      },
      "execution_count": 43,
      "outputs": []
    },
    {
      "cell_type": "code",
      "source": [
        "import matplotlib.pyplot as plt\n",
        "idx = 30000\n",
        "print(\"答案是:\", trans[y_train[idx][0]])\n",
        "plt.imshow(x_train[idx])"
      ],
      "metadata": {
        "colab": {
          "base_uri": "https://localhost:8080/",
          "height": 301
        },
        "id": "7fywN4eVviZQ",
        "outputId": "a1adb869-d444-4374-f66f-e6dfd85e9ac3"
      },
      "execution_count": 44,
      "outputs": [
        {
          "output_type": "stream",
          "name": "stdout",
          "text": [
            "答案是: airplane\n"
          ]
        },
        {
          "output_type": "execute_result",
          "data": {
            "text/plain": [
              "<matplotlib.image.AxesImage at 0x7f88f4721dd0>"
            ]
          },
          "metadata": {},
          "execution_count": 44
        },
        {
          "output_type": "display_data",
          "data": {
            "text/plain": [
              "<Figure size 432x288 with 1 Axes>"
            ],
            "image/png": "[encoded data removed]"
          },
          "metadata": {
            "needs_background": "light"
          }
        }
      ]
    },
    {
      "cell_type": "code",
      "source": [
        "# from tensorflow.keras.models import Sequential\n",
        "# from tensorflow.keras.layers import Conv2D, MaxPooling2D\n",
        "# from tensorflow.keras.layers import Dense, Flatten\n",
        "# layers = [\n",
        "#     # 1 filter(3 * 3 * 3(previous depth)) * 64 + 64(bias) = 1792\n",
        "#     Conv2D(64, 3, padding=\"same\", activation=\"relu\", input_shape=(32, 32, 3)),\n",
        "#     MaxPooling2D(),\n",
        "#     # 1 filter(3 * 3 * 64(previous depth)) * 128 + 128(bias) = 73856\n",
        "#     Conv2D(128, 3, padding=\"same\", activation=\"relu\"),\n",
        "#     MaxPooling2D(),\n",
        "#     Conv2D(256, 3, padding=\"same\", activation=\"relu\"),\n",
        "#     MaxPooling2D(),\n",
        "#     Flatten(),\n",
        "#     Dense(128, activation=\"relu\"),\n",
        "#     Dense(10, activation=\"softmax\")\n",
        "# ]\n",
        "# model = Sequential(layers)\n",
        "# model.summary()"
      ],
      "metadata": {
        "id": "i2st-vZ-ycNQ"
      },
      "execution_count": 45,
      "outputs": []
    },
    {
      "cell_type": "code",
      "source": [
        "# GAP\n",
        "from tensorflow.keras.models import Sequential\n",
        "from tensorflow.keras.layers import Conv2D, MaxPooling2D, GlobalAveragePooling2D\n",
        "from tensorflow.keras.layers import Dense, Flatten\n",
        "layers = [\n",
        "    # 1 filter(3 * 3 * 3(previous depth)) * 64 + 64(bias) = 1792\n",
        "    Conv2D(64, 3, padding=\"same\", activation=\"relu\", input_shape=(32, 32, 3)),\n",
        "    MaxPooling2D(),\n",
        "    # 1 filter(3 * 3 * 64(previous depth)) * 128 + 128(bias) = 73856\n",
        "    Conv2D(128, 3, padding=\"same\", activation=\"relu\"),\n",
        "    MaxPooling2D(),\n",
        "    Conv2D(256, 3, padding=\"same\", activation=\"relu\"),\n",
        "    MaxPooling2D(),\n",
        "    Conv2D(512, 3, padding=\"same\", activation=\"relu\"),\n",
        "    MaxPooling2D(),\n",
        "    GlobalAveragePooling2D(),\n",
        "    Dense(10, activation=\"softmax\")\n",
        "]\n",
        "model = Sequential(layers)\n",
        "model.summary()"
      ],
      "metadata": {
        "colab": {
          "base_uri": "https://localhost:8080/"
        },
        "id": "8ai0BeDJ-HR7",
        "outputId": "e97f80e2-baeb-4225-8c7f-4bf8db693826"
      },
      "execution_count": 46,
      "outputs": [
        {
          "output_type": "stream",
          "name": "stdout",
          "text": [
            "Model: \"sequential_8\"\n",
            "_________________________________________________________________\n",
            " Layer (type)                Output Shape              Param #   \n",
            "=================================================================\n",
            " conv2d_26 (Conv2D)          (None, 32, 32, 64)        1792      \n",
            "                                                                 \n",
            " max_pooling2d_22 (MaxPoolin  (None, 16, 16, 64)       0         \n",
            " g2D)                                                            \n",
            "                                                                 \n",
            " conv2d_27 (Conv2D)          (None, 16, 16, 128)       73856     \n",
            "                                                                 \n",
            " max_pooling2d_23 (MaxPoolin  (None, 8, 8, 128)        0         \n",
            " g2D)                                                            \n",
            "                                                                 \n",
            " conv2d_28 (Conv2D)          (None, 8, 8, 256)         295168    \n",
            "                                                                 \n",
            " max_pooling2d_24 (MaxPoolin  (None, 4, 4, 256)        0         \n",
            " g2D)                                                            \n",
            "                                                                 \n",
            " conv2d_29 (Conv2D)          (None, 4, 4, 512)         1180160   \n",
            "                                                                 \n",
            " max_pooling2d_25 (MaxPoolin  (None, 2, 2, 512)        0         \n",
            " g2D)                                                            \n",
            "                                                                 \n",
            " global_average_pooling2d_4   (None, 512)              0         \n",
            " (GlobalAveragePooling2D)                                        \n",
            "                                                                 \n",
            " dense_8 (Dense)             (None, 10)                5130      \n",
            "                                                                 \n",
            "=================================================================\n",
            "Total params: 1,556,106\n",
            "Trainable params: 1,556,106\n",
            "Non-trainable params: 0\n",
            "_________________________________________________________________\n"
          ]
        }
      ]
    },
    {
      "cell_type": "code",
      "source": [
        "from tensorflow.keras.losses import SparseCategoricalCrossentropy\n",
        "model.compile(loss=SparseCategoricalCrossentropy(),\n",
        "       optimizer=\"adam\",\n",
        "       metrics=[\"accuracy\"])"
      ],
      "metadata": {
        "id": "HAk-PPuZ_v6f"
      },
      "execution_count": 47,
      "outputs": []
    },
    {
      "cell_type": "code",
      "source": [
        "x_train_norm = x_train / 255.0\n",
        "x_test_norm = x_test / 255.0"
      ],
      "metadata": {
        "id": "EGbIegWaBd_Z"
      },
      "execution_count": 48,
      "outputs": []
    },
    {
      "cell_type": "code",
      "source": [
        "# batch_size: 你看多少筆再進行一次梯度下降(5[圖片大/訓練資料少]-200[圖片小/訓練資料多])\n",
        "# epochs: 全體資料(60000) 你要看幾輪(我們什麼時候要停的關鍵)\n",
        "# validation_split: 測試什麼時候停下來要用沒看過的資料(val loss穩定的時候就停, 不要過擬合)\n",
        "# (60000 * 0.9) / 200 -> 270\n",
        "# verbose: 0(quiet) 1(full) 2(no progress bar)\n",
        "from tensorflow.keras.callbacks import ModelCheckpoint, EarlyStopping\n",
        "callbacks = [\n",
        "    ModelCheckpoint(\"cnn.h5\", save_best_only=True),\n",
        "    EarlyStopping(patience=5, restore_best_weights=True)\n",
        "]\n",
        "model.fit(x_train_norm,\n",
        "     y_train,\n",
        "     batch_size=200,\n",
        "     epochs=50,\n",
        "     validation_split=0.1,\n",
        "     verbose=2,\n",
        "     callbacks=callbacks)"
      ],
      "metadata": {
        "colab": {
          "base_uri": "https://localhost:8080/"
        },
        "id": "YWn-ILv4Byd-",
        "outputId": "b34ca543-9251-439b-c806-84f48da22c41"
      },
      "execution_count": 49,
      "outputs": [
        {
          "output_type": "stream",
          "name": "stdout",
          "text": [
            "Epoch 1/50\n",
            "225/225 - 5s - loss: 1.6607 - accuracy: 0.3812 - val_loss: 1.3836 - val_accuracy: 0.4926 - 5s/epoch - 23ms/step\n",
            "Epoch 2/50\n",
            "225/225 - 4s - loss: 1.2210 - accuracy: 0.5619 - val_loss: 1.0507 - val_accuracy: 0.6316 - 4s/epoch - 19ms/step\n",
            "Epoch 3/50\n",
            "225/225 - 4s - loss: 1.0176 - accuracy: 0.6415 - val_loss: 0.9165 - val_accuracy: 0.6794 - 4s/epoch - 19ms/step\n",
            "Epoch 4/50\n",
            "225/225 - 4s - loss: 0.8652 - accuracy: 0.6982 - val_loss: 0.8324 - val_accuracy: 0.7112 - 4s/epoch - 19ms/step\n",
            "Epoch 5/50\n",
            "225/225 - 4s - loss: 0.7684 - accuracy: 0.7321 - val_loss: 0.7909 - val_accuracy: 0.7238 - 4s/epoch - 20ms/step\n",
            "Epoch 6/50\n",
            "225/225 - 4s - loss: 0.6813 - accuracy: 0.7619 - val_loss: 0.7351 - val_accuracy: 0.7500 - 4s/epoch - 20ms/step\n",
            "Epoch 7/50\n",
            "225/225 - 4s - loss: 0.6110 - accuracy: 0.7888 - val_loss: 0.7702 - val_accuracy: 0.7396 - 4s/epoch - 19ms/step\n",
            "Epoch 8/50\n",
            "225/225 - 4s - loss: 0.5425 - accuracy: 0.8108 - val_loss: 0.6825 - val_accuracy: 0.7662 - 4s/epoch - 20ms/step\n",
            "Epoch 9/50\n",
            "225/225 - 4s - loss: 0.4784 - accuracy: 0.8340 - val_loss: 0.6617 - val_accuracy: 0.7734 - 4s/epoch - 20ms/step\n",
            "Epoch 10/50\n",
            "225/225 - 4s - loss: 0.4214 - accuracy: 0.8540 - val_loss: 0.6363 - val_accuracy: 0.7854 - 4s/epoch - 20ms/step\n",
            "Epoch 11/50\n",
            "225/225 - 4s - loss: 0.3620 - accuracy: 0.8748 - val_loss: 0.7396 - val_accuracy: 0.7596 - 4s/epoch - 19ms/step\n",
            "Epoch 12/50\n",
            "225/225 - 4s - loss: 0.3033 - accuracy: 0.8957 - val_loss: 0.6298 - val_accuracy: 0.7996 - 4s/epoch - 20ms/step\n",
            "Epoch 13/50\n",
            "225/225 - 4s - loss: 0.2558 - accuracy: 0.9135 - val_loss: 0.6630 - val_accuracy: 0.7998 - 4s/epoch - 19ms/step\n",
            "Epoch 14/50\n",
            "225/225 - 4s - loss: 0.1986 - accuracy: 0.9352 - val_loss: 0.6889 - val_accuracy: 0.7986 - 4s/epoch - 19ms/step\n",
            "Epoch 15/50\n",
            "225/225 - 4s - loss: 0.1675 - accuracy: 0.9443 - val_loss: 0.7710 - val_accuracy: 0.7904 - 4s/epoch - 19ms/step\n",
            "Epoch 16/50\n",
            "225/225 - 4s - loss: 0.1360 - accuracy: 0.9554 - val_loss: 0.7449 - val_accuracy: 0.7976 - 4s/epoch - 19ms/step\n",
            "Epoch 17/50\n",
            "225/225 - 4s - loss: 0.0978 - accuracy: 0.9698 - val_loss: 0.9346 - val_accuracy: 0.7776 - 4s/epoch - 19ms/step\n"
          ]
        },
        {
          "output_type": "execute_result",
          "data": {
            "text/plain": [
              "<keras.callbacks.History at 0x7f8a41969150>"
            ]
          },
          "metadata": {},
          "execution_count": 49
        }
      ]
    },
    {
      "cell_type": "code",
      "source": [
        "model.evaluate(x_test_norm, y_test)"
      ],
      "metadata": {
        "colab": {
          "base_uri": "https://localhost:8080/"
        },
        "id": "5avCbavoFajV",
        "outputId": "617b569a-83dc-4507-b0f8-d2ce6be8af6e"
      },
      "execution_count": 50,
      "outputs": [
        {
          "output_type": "stream",
          "name": "stdout",
          "text": [
            "313/313 [==============================] - 1s 4ms/step - loss: 0.6836 - accuracy: 0.7787\n"
          ]
        },
        {
          "output_type": "execute_result",
          "data": {
            "text/plain": [
              "[0.6835906505584717, 0.7786999940872192]"
            ]
          },
          "metadata": {},
          "execution_count": 50
        }
      ]
    },
    {
      "cell_type": "code",
      "source": [
        "pre = model.predict(x_test_norm).argmax(axis=-1)\n",
        "print(pre.shape)\n",
        "print(y_test.shape)\n",
        "y_test_r = y_test.reshape(10000)\n",
        "print(y_test_r.shape)"
      ],
      "metadata": {
        "colab": {
          "base_uri": "https://localhost:8080/"
        },
        "id": "oMszyfHTHP6P",
        "outputId": "31229288-c7a7-4e21-ddfd-a0edfb59c870"
      },
      "execution_count": 54,
      "outputs": [
        {
          "output_type": "stream",
          "name": "stdout",
          "text": [
            "(10000,)\n",
            "(10000, 1)\n",
            "(10000,)\n"
          ]
        }
      ]
    },
    {
      "cell_type": "code",
      "source": [
        "# 雙方向(axis=1)\n",
        "# 在tf用y_test_cat(十個機率), 出tf用y_test(確實答案)\n",
        "import pandas as pd\n",
        "from sklearn.metrics import confusion_matrix\n",
        "pre = model.predict(x_test_norm).argmax(axis=-1)\n",
        "mat = confusion_matrix(y_test_r, pre)\n",
        "pd.DataFrame(mat,\n",
        "      columns=[\"{}(預測)\".format(trans[i]) for i in range(10)],\n",
        "      index=[\"{}(真實)\".format(trans[i]) for i in range(10)])"
      ],
      "metadata": {
        "colab": {
          "base_uri": "https://localhost:8080/",
          "height": 363
        },
        "id": "EKOCYan6HH0A",
        "outputId": "e7a05bee-878d-4ad4-aaed-4da5ace36fe1"
      },
      "execution_count": 56,
      "outputs": [
        {
          "output_type": "execute_result",
          "data": {
            "text/plain": [
              "                airplane(預測)  automobile(預測)  bird(預測)  cat(預測)  deer(預測)  \\\n",
              "airplane(真實)             816              14        44       19        22   \n",
              "automobile(真實)            20             882         3        8         4   \n",
              "bird(真實)                  58               4       658       75        68   \n",
              "cat(真實)                   15               5        51      625        36   \n",
              "deer(真實)                   8               3        46       82       725   \n",
              "dog(真實)                   10               3        14      118        34   \n",
              "frog(真實)                   5               4        39       76        10   \n",
              "horse(真實)                 12               1        19       45        47   \n",
              "ship(真實)                  49              18        13       18         4   \n",
              "truck(真實)                 29              68        11       24         2   \n",
              "\n",
              "                dog(預測)  frog(預測)  horse(預測)  ship(預測)  truck(預測)  \n",
              "airplane(真實)         12         5         13        37         18  \n",
              "automobile(真實)        4         4          3        31         41  \n",
              "bird(真實)             69        42         16         7          3  \n",
              "cat(真實)             188        44         24         5          7  \n",
              "deer(真實)             48        42         39         7          0  \n",
              "dog(真實)             770        14         32         3          2  \n",
              "frog(真實)             25       826          6         7          2  \n",
              "horse(真實)            63         8        796         3          6  \n",
              "ship(真實)              7         2          2       873         14  \n",
              "truck(真實)            11         7         12        20        816  "
            ],
            "text/html": [
              "\n",
              "  <div id=\"df-2ddca435-8603-4d77-abb8-5066ca201cff\">\n",
              "    <div class=\"colab-df-container\">\n",
              "      <div>\n",
              "<style scoped>\n",
              "    .dataframe tbody tr th:only-of-type {\n",
              "        vertical-align: middle;\n",
              "    }\n",
              "\n",
              "    .dataframe tbody tr th {\n",
              "        vertical-align: top;\n",
              "    }\n",
              "\n",
              "    .dataframe thead th {\n",
              "        text-align: right;\n",
              "    }\n",
              "</style>\n",
              "<table border=\"1\" class=\"dataframe\">\n",
              "  <thead>\n",
              "    <tr style=\"text-align: right;\">\n",
              "      <th></th>\n",
              "      <th>airplane(預測)</th>\n",
              "      <th>automobile(預測)</th>\n",
              "      <th>bird(預測)</th>\n",
              "      <th>cat(預測)</th>\n",
              "      <th>deer(預測)</th>\n",
              "      <th>dog(預測)</th>\n",
              "      <th>frog(預測)</th>\n",
              "      <th>horse(預測)</th>\n",
              "      <th>ship(預測)</th>\n",
              "      <th>truck(預測)</th>\n",
              "    </tr>\n",
              "  </thead>\n",
              "  <tbody>\n",
              "    <tr>\n",
              "      <th>airplane(真實)</th>\n",
              "      <td>816</td>\n",
              "      <td>14</td>\n",
              "      <td>44</td>\n",
              "      <td>19</td>\n",
              "      <td>22</td>\n",
              "      <td>12</td>\n",
              "      <td>5</td>\n",
              "      <td>13</td>\n",
              "      <td>37</td>\n",
              "      <td>18</td>\n",
              "    </tr>\n",
              "    <tr>\n",
              "      <th>automobile(真實)</th>\n",
              "      <td>20</td>\n",
              "      <td>882</td>\n",
              "      <td>3</td>\n",
              "      <td>8</td>\n",
              "      <td>4</td>\n",
              "      <td>4</td>\n",
              "      <td>4</td>\n",
              "      <td>3</td>\n",
              "      <td>31</td>\n",
              "      <td>41</td>\n",
              "    </tr>\n",
              "    <tr>\n",
              "      <th>bird(真實)</th>\n",
              "      <td>58</td>\n",
              "      <td>4</td>\n",
              "      <td>658</td>\n",
              "      <td>75</td>\n",
              "      <td>68</td>\n",
              "      <td>69</td>\n",
              "      <td>42</td>\n",
              "      <td>16</td>\n",
              "      <td>7</td>\n",
              "      <td>3</td>\n",
              "    </tr>\n",
              "    <tr>\n",
              "      <th>cat(真實)</th>\n",
              "      <td>15</td>\n",
              "      <td>5</td>\n",
              "      <td>51</td>\n",
              "      <td>625</td>\n",
              "      <td>36</td>\n",
              "      <td>188</td>\n",
              "      <td>44</td>\n",
              "      <td>24</td>\n",
              "      <td>5</td>\n",
              "      <td>7</td>\n",
              "    </tr>\n",
              "    <tr>\n",
              "      <th>deer(真實)</th>\n",
              "      <td>8</td>\n",
              "      <td>3</td>\n",
              "      <td>46</td>\n",
              "      <td>82</td>\n",
              "      <td>725</td>\n",
              "      <td>48</td>\n",
              "      <td>42</td>\n",
              "      <td>39</td>\n",
              "      <td>7</td>\n",
              "      <td>0</td>\n",
              "    </tr>\n",
              "    <tr>\n",
              "      <th>dog(真實)</th>\n",
              "      <td>10</td>\n",
              "      <td>3</td>\n",
              "      <td>14</td>\n",
              "      <td>118</td>\n",
              "      <td>34</td>\n",
              "      <td>770</td>\n",
              "      <td>14</td>\n",
              "      <td>32</td>\n",
              "      <td>3</td>\n",
              "      <td>2</td>\n",
              "    </tr>\n",
              "    <tr>\n",
              "      <th>frog(真實)</th>\n",
              "      <td>5</td>\n",
              "      <td>4</td>\n",
              "      <td>39</td>\n",
              "      <td>76</td>\n",
              "      <td>10</td>\n",
              "      <td>25</td>\n",
              "      <td>826</td>\n",
              "      <td>6</td>\n",
              "      <td>7</td>\n",
              "      <td>2</td>\n",
              "    </tr>\n",
              "    <tr>\n",
              "      <th>horse(真實)</th>\n",
              "      <td>12</td>\n",
              "      <td>1</td>\n",
              "      <td>19</td>\n",
              "      <td>45</td>\n",
              "      <td>47</td>\n",
              "      <td>63</td>\n",
              "      <td>8</td>\n",
              "      <td>796</td>\n",
              "      <td>3</td>\n",
              "      <td>6</td>\n",
              "    </tr>\n",
              "    <tr>\n",
              "      <th>ship(真實)</th>\n",
              "      <td>49</td>\n",
              "      <td>18</td>\n",
              "      <td>13</td>\n",
              "      <td>18</td>\n",
              "      <td>4</td>\n",
              "      <td>7</td>\n",
              "      <td>2</td>\n",
              "      <td>2</td>\n",
              "      <td>873</td>\n",
              "      <td>14</td>\n",
              "    </tr>\n",
              "    <tr>\n",
              "      <th>truck(真實)</th>\n",
              "      <td>29</td>\n",
              "      <td>68</td>\n",
              "      <td>11</td>\n",
              "      <td>24</td>\n",
              "      <td>2</td>\n",
              "      <td>11</td>\n",
              "      <td>7</td>\n",
              "      <td>12</td>\n",
              "      <td>20</td>\n",
              "      <td>816</td>\n",
              "    </tr>\n",
              "  </tbody>\n",
              "</table>\n",
              "</div>\n",
              "      <button class=\"colab-df-convert\" onclick=\"convertToInteractive('df-2ddca435-8603-4d77-abb8-5066ca201cff')\"\n",
              "              title=\"Convert this dataframe to an interactive table.\"\n",
              "              style=\"display:none;\">\n",
              "        \n",
              "  <svg xmlns=\"http://www.w3.org/2000/svg\" height=\"24px\"viewBox=\"0 0 24 24\"\n",
              "       width=\"24px\">\n",
              "    <path d=\"M0 0h24v24H0V0z\" fill=\"none\"/>\n",
              "    <path d=\"M18.56 5.44l.94 2.06.94-2.06 2.06-.94-2.06-.94-.94-2.06-.94 2.06-2.06.94zm-11 1L8.5 8.5l.94-2.06 2.06-.94-2.06-.94L8.5 2.5l-.94 2.06-2.06.94zm10 10l.94 2.06.94-2.06 2.06-.94-2.06-.94-.94-2.06-.94 2.06-2.06.94z\"/><path d=\"M17.41 7.96l-1.37-1.37c-.4-.4-.92-.59-1.43-.59-.52 0-1.04.2-1.43.59L10.3 9.45l-7.72 7.72c-.78.78-.78 2.05 0 2.83L4 21.41c.39.39.9.59 1.41.59.51 0 1.02-.2 1.41-.59l7.78-7.78 2.81-2.81c.8-.78.8-2.07 0-2.86zM5.41 20L4 18.59l7.72-7.72 1.47 1.35L5.41 20z\"/>\n",
              "  </svg>\n",
              "      </button>\n",
              "      \n",
              "  <style>\n",
              "    .colab-df-container {\n",
              "      display:flex;\n",
              "      flex-wrap:wrap;\n",
              "      gap: 12px;\n",
              "    }\n",
              "\n",
              "    .colab-df-convert {\n",
              "      background-color: #E8F0FE;\n",
              "      border: none;\n",
              "      border-radius: 50%;\n",
              "      cursor: pointer;\n",
              "      display: none;\n",
              "      fill: #1967D2;\n",
              "      height: 32px;\n",
              "      padding: 0 0 0 0;\n",
              "      width: 32px;\n",
              "    }\n",
              "\n",
              "    .colab-df-convert:hover {\n",
              "      background-color: #E2EBFA;\n",
              "      box-shadow: 0px 1px 2px rgba(60, 64, 67, 0.3), 0px 1px 3px 1px rgba(60, 64, 67, 0.15);\n",
              "      fill: #174EA6;\n",
              "    }\n",
              "\n",
              "    [theme=dark] .colab-df-convert {\n",
              "      background-color: #3B4455;\n",
              "      fill: #D2E3FC;\n",
              "    }\n",
              "\n",
              "    [theme=dark] .colab-df-convert:hover {\n",
              "      background-color: #434B5C;\n",
              "      box-shadow: 0px 1px 3px 1px rgba(0, 0, 0, 0.15);\n",
              "      filter: drop-shadow(0px 1px 2px rgba(0, 0, 0, 0.3));\n",
              "      fill: #FFFFFF;\n",
              "    }\n",
              "  </style>\n",
              "\n",
              "      <script>\n",
              "        const buttonEl =\n",
              "          document.querySelector('#df-2ddca435-8603-4d77-abb8-5066ca201cff button.colab-df-convert');\n",
              "        buttonEl.style.display =\n",
              "          google.colab.kernel.accessAllowed ? 'block' : 'none';\n",
              "\n",
              "        async function convertToInteractive(key) {\n",
              "          const element = document.querySelector('#df-2ddca435-8603-4d77-abb8-5066ca201cff');\n",
              "          const dataTable =\n",
              "            await google.colab.kernel.invokeFunction('convertToInteractive',\n",
              "                                                     [key], {});\n",
              "          if (!dataTable) return;\n",
              "\n",
              "          const docLinkHtml = 'Like what you see? Visit the ' +\n",
              "            '<a target=\"_blank\" href=https://colab.research.google.com/notebooks/data_table.ipynb>data table notebook</a>'\n",
              "            + ' to learn more about interactive tables.';\n",
              "          element.innerHTML = '';\n",
              "          dataTable['output_type'] = 'display_data';\n",
              "          await google.colab.output.renderOutput(dataTable, element);\n",
              "          const docLink = document.createElement('div');\n",
              "          docLink.innerHTML = docLinkHtml;\n",
              "          element.appendChild(docLink);\n",
              "        }\n",
              "      </script>\n",
              "    </div>\n",
              "  </div>\n",
              "  "
            ]
          },
          "metadata": {},
          "execution_count": 56
        }
      ]
    }
  ]
}