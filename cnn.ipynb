{
  "nbformat": 4,
  "nbformat_minor": 0,
  "metadata": {
    "colab": {
      "name": "cnn.ipynb",
      "provenance": [],
      "authorship_tag": "ABX9TyNHh368oZ1xcy8RKN051pSQ",
      "include_colab_link": true
    },
    "kernelspec": {
      "name": "python3",
      "display_name": "Python 3"
    },
    "language_info": {
      "name": "python"
    },
    "accelerator": "GPU",
    "gpuClass": "standard"
  },
  "cells": [
    {
      "cell_type": "markdown",
      "metadata": {
        "id": "view-in-github",
        "colab_type": "text"
      },
      "source": [
        "<a href=\"https://colab.research.google.com/github/Elwing-Chou/tibaml0606/blob/main/cnn.ipynb\" target=\"_parent\"><img src=\"https://colab.research.google.com/assets/colab-badge.svg\" alt=\"Open In Colab\"/></a>"
      ]
    },
    {
      "cell_type": "code",
      "execution_count": 22,
      "metadata": {
        "id": "WB8bvOA4uOY4"
      },
      "outputs": [],
      "source": [
        "from tensorflow.keras.datasets.cifar10 import load_data\n",
        "(x_train, y_train), (x_test, y_test) = load_data()"
      ]
    },
    {
      "cell_type": "code",
      "source": [
        "print(x_train.shape)\n",
        "print(y_train.shape)\n",
        "print(x_test.shape)\n",
        "print(y_test.shape)"
      ],
      "metadata": {
        "colab": {
          "base_uri": "https://localhost:8080/"
        },
        "id": "Lp4mLWN7u8Sh",
        "outputId": "133083fe-23db-457b-c894-6739e6080957"
      },
      "execution_count": 23,
      "outputs": [
        {
          "output_type": "stream",
          "name": "stdout",
          "text": [
            "(50000, 32, 32, 3)\n",
            "(50000, 1)\n",
            "(10000, 32, 32, 3)\n",
            "(10000, 1)\n"
          ]
        }
      ]
    },
    {
      "cell_type": "code",
      "source": [
        "trans = [\n",
        "    \"airplane\",\t\t\t\t\t\t\t\t\t\t\n",
        "    \"automobile\",\t\t\t\t\t\t\t\t\t\t\n",
        "    \"bird\",\t\t\t\t\t\t\t\t\t\t\n",
        "    \"cat\",\t\t\t\t\t\t\t\t\t\t\n",
        "    \"deer\",\t\t\t\t\t\t\t\t\t\t\n",
        "    \"dog\",\t\t\t\t\t\t\t\t\t\t\n",
        "    \"frog\",\t\t\t\t\t\t\t\t\t\t\n",
        "    \"horse\",\t\t\t\t\t\t\t\t\t\t\n",
        "    \"ship\",\t\t\t\t\t\t\t\t\t\t\n",
        "    \"truck\",\n",
        "]"
      ],
      "metadata": {
        "id": "vIuPSAahvrwZ"
      },
      "execution_count": 24,
      "outputs": []
    },
    {
      "cell_type": "code",
      "source": [
        "import matplotlib.pyplot as plt\n",
        "idx = 30000\n",
        "print(\"答案是:\", trans[y_train[idx][0]])\n",
        "plt.imshow(x_train[idx])"
      ],
      "metadata": {
        "colab": {
          "base_uri": "https://localhost:8080/",
          "height": 301
        },
        "id": "7fywN4eVviZQ",
        "outputId": "19822a9a-a3d1-4ffc-97cd-9cd39583b63a"
      },
      "execution_count": 25,
      "outputs": [
        {
          "output_type": "stream",
          "name": "stdout",
          "text": [
            "答案是: airplane\n"
          ]
        },
        {
          "output_type": "execute_result",
          "data": {
            "text/plain": [
              "<matplotlib.image.AxesImage at 0x7f89c4230c90>"
            ]
          },
          "metadata": {},
          "execution_count": 25
        },
        {
          "output_type": "display_data",
          "data": {
            "text/plain": [
              "<Figure size 432x288 with 1 Axes>"
            ],
            "image/png": "[encoded data removed]"
          },
          "metadata": {
            "needs_background": "light"
          }
        }
      ]
    },
    {
      "cell_type": "code",
      "source": [
        "# from tensorflow.keras.models import Sequential\n",
        "# from tensorflow.keras.layers import Conv2D, MaxPooling2D\n",
        "# from tensorflow.keras.layers import Dense, Flatten\n",
        "# layers = [\n",
        "#     # 1 filter(3 * 3 * 3(previous depth)) * 64 + 64(bias) = 1792\n",
        "#     Conv2D(64, 3, padding=\"same\", activation=\"relu\", input_shape=(32, 32, 3)),\n",
        "#     MaxPooling2D(),\n",
        "#     # 1 filter(3 * 3 * 64(previous depth)) * 128 + 128(bias) = 73856\n",
        "#     Conv2D(128, 3, padding=\"same\", activation=\"relu\"),\n",
        "#     MaxPooling2D(),\n",
        "#     Conv2D(256, 3, padding=\"same\", activation=\"relu\"),\n",
        "#     MaxPooling2D(),\n",
        "#     Flatten(),\n",
        "#     Dense(128, activation=\"relu\"),\n",
        "#     Dense(10, activation=\"softmax\")\n",
        "# ]\n",
        "# model = Sequential(layers)\n",
        "# model.summary()"
      ],
      "metadata": {
        "id": "i2st-vZ-ycNQ"
      },
      "execution_count": 26,
      "outputs": []
    },
    {
      "cell_type": "code",
      "source": [
        "# GAP\n",
        "from tensorflow.keras.models import Sequential\n",
        "from tensorflow.keras.layers import Conv2D, MaxPooling2D, GlobalAveragePooling2D\n",
        "from tensorflow.keras.layers import Dense, Flatten\n",
        "layers = [\n",
        "    # 1 filter(3 * 3 * 3(previous depth)) * 64 + 64(bias) = 1792\n",
        "    Conv2D(64, 3, padding=\"same\", activation=\"relu\", input_shape=(32, 32, 3)),\n",
        "    MaxPooling2D(),\n",
        "    # 1 filter(3 * 3 * 64(previous depth)) * 128 + 128(bias) = 73856\n",
        "    Conv2D(128, 3, padding=\"same\", activation=\"relu\"),\n",
        "    MaxPooling2D(),\n",
        "    Conv2D(256, 3, padding=\"same\", activation=\"relu\"),\n",
        "    MaxPooling2D(),\n",
        "    Conv2D(512, 3, padding=\"same\", activation=\"relu\"),\n",
        "    MaxPooling2D(),\n",
        "    GlobalAveragePooling2D(),\n",
        "    Dense(10, activation=\"softmax\")\n",
        "]\n",
        "model = Sequential(layers)\n",
        "model.summary()"
      ],
      "metadata": {
        "colab": {
          "base_uri": "https://localhost:8080/"
        },
        "id": "8ai0BeDJ-HR7",
        "outputId": "3281e95b-f436-4d13-b4a7-a9c5099ce104"
      },
      "execution_count": 27,
      "outputs": [
        {
          "output_type": "stream",
          "name": "stdout",
          "text": [
            "Model: \"sequential_6\"\n",
            "_________________________________________________________________\n",
            " Layer (type)                Output Shape              Param #   \n",
            "=================================================================\n",
            " conv2d_18 (Conv2D)          (None, 32, 32, 64)        1792      \n",
            "                                                                 \n",
            " max_pooling2d_18 (MaxPoolin  (None, 16, 16, 64)       0         \n",
            " g2D)                                                            \n",
            "                                                                 \n",
            " conv2d_19 (Conv2D)          (None, 16, 16, 128)       73856     \n",
            "                                                                 \n",
            " max_pooling2d_19 (MaxPoolin  (None, 8, 8, 128)        0         \n",
            " g2D)                                                            \n",
            "                                                                 \n",
            " conv2d_20 (Conv2D)          (None, 8, 8, 256)         295168    \n",
            "                                                                 \n",
            " max_pooling2d_20 (MaxPoolin  (None, 4, 4, 256)        0         \n",
            " g2D)                                                            \n",
            "                                                                 \n",
            " conv2d_21 (Conv2D)          (None, 4, 4, 512)         1180160   \n",
            "                                                                 \n",
            " max_pooling2d_21 (MaxPoolin  (None, 2, 2, 512)        0         \n",
            " g2D)                                                            \n",
            "                                                                 \n",
            " global_average_pooling2d_2   (None, 512)              0         \n",
            " (GlobalAveragePooling2D)                                        \n",
            "                                                                 \n",
            " dense_6 (Dense)             (None, 10)                5130      \n",
            "                                                                 \n",
            "=================================================================\n",
            "Total params: 1,556,106\n",
            "Trainable params: 1,556,106\n",
            "Non-trainable params: 0\n",
            "_________________________________________________________________\n"
          ]
        }
      ]
    },
    {
      "cell_type": "code",
      "source": [
        "from tensorflow.keras.losses import SparseCategoricalCrossentropy\n",
        "model.compile(loss=SparseCategoricalCrossentropy(),\n",
        "       optimizer=\"adam\",\n",
        "       metrics=[\"accuracy\"])"
      ],
      "metadata": {
        "id": "HAk-PPuZ_v6f"
      },
      "execution_count": 28,
      "outputs": []
    },
    {
      "cell_type": "code",
      "source": [
        "x_train_norm = x_train / 255.0\n",
        "x_test_norm = x_test / 255.0"
      ],
      "metadata": {
        "id": "EGbIegWaBd_Z"
      },
      "execution_count": 29,
      "outputs": []
    },
    {
      "cell_type": "code",
      "source": [
        "# batch_size: 你看多少筆再進行一次梯度下降(5[圖片大/訓練資料少]-200[圖片小/訓練資料多])\n",
        "# epochs: 全體資料(60000) 你要看幾輪(我們什麼時候要停的關鍵)\n",
        "# validation_split: 測試什麼時候停下來要用沒看過的資料(val loss穩定的時候就停, 不要過擬合)\n",
        "# (60000 * 0.9) / 200 -> 270\n",
        "# verbose: 0(quiet) 1(full) 2(no progress bar)\n",
        "from tensorflow.keras.callbacks import ModelCheckpoint, EarlyStopping\n",
        "callbacks = [\n",
        "    ModelCheckpoint(\"cnn.h5\", save_best_only=True),\n",
        "    EarlyStopping(patience=5, restore_best_weights=True)\n",
        "]\n",
        "model.fit(x_train_norm,\n",
        "     y_train,\n",
        "     batch_size=200,\n",
        "     epochs=50,\n",
        "     validation_split=0.1,\n",
        "     verbose=2,\n",
        "     callbacks=callbacks)"
      ],
      "metadata": {
        "id": "YWn-ILv4Byd-"
      },
      "execution_count": null,
      "outputs": []
    },
    {
      "cell_type": "code",
      "source": [
        "model.evaluate(x_test_norm, y_test)"
      ],
      "metadata": {
        "colab": {
          "base_uri": "https://localhost:8080/"
        },
        "id": "5avCbavoFajV",
        "outputId": "06b124de-c558-408d-d01a-fb9c1ddfd4e1"
      },
      "execution_count": 31,
      "outputs": [
        {
          "output_type": "stream",
          "name": "stdout",
          "text": [
            "313/313 [==============================] - 1s 4ms/step - loss: 0.6484 - accuracy: 0.7815\n"
          ]
        },
        {
          "output_type": "execute_result",
          "data": {
            "text/plain": [
              "[0.6484478116035461, 0.781499981880188]"
            ]
          },
          "metadata": {},
          "execution_count": 31
        }
      ]
    }
  ]
}