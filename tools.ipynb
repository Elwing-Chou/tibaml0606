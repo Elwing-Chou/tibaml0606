{
  "nbformat": 4,
  "nbformat_minor": 0,
  "metadata": {
    "colab": {
      "name": "tools.ipynb",
      "provenance": [],
      "authorship_tag": "ABX9TyMKFhfvMfQBSLjulXmJB9DY",
      "include_colab_link": true
    },
    "kernelspec": {
      "name": "python3",
      "display_name": "Python 3"
    },
    "language_info": {
      "name": "python"
    }
  },
  "cells": [
    {
      "cell_type": "markdown",
      "metadata": {
        "id": "view-in-github",
        "colab_type": "text"
      },
      "source": [
        "<a href=\"https://colab.research.google.com/github/Elwing-Chou/tibaml0606/blob/main/tools.ipynb\" target=\"_parent\"><img src=\"https://colab.research.google.com/assets/colab-badge.svg\" alt=\"Open In Colab\"/></a>"
      ]
    },
    {
      "cell_type": "code",
      "execution_count": 1,
      "metadata": {
        "colab": {
          "base_uri": "https://localhost:8080/"
        },
        "id": "wisqe6-OzEss",
        "outputId": "35e3fdd1-cb13-4061-b3e4-5f19fc693727"
      },
      "outputs": [
        {
          "output_type": "stream",
          "name": "stdout",
          "text": [
            "Looking in indexes: https://pypi.org/simple, https://us-python.pkg.dev/colab-wheels/public/simple/\n",
            "Requirement already satisfied: opencc-python-reimplemented in /usr/local/lib/python3.7/dist-packages (0.1.6)\n"
          ]
        }
      ],
      "source": [
        "!pip install opencc-python-reimplemented"
      ]
    },
    {
      "cell_type": "code",
      "source": [
        "from opencc import OpenCC\n",
        "cc = OpenCC(\"s2tw\")  # convert from Simplified Chinese to Traditional Chinese\n",
        "# can also set conversion by calling set_conversion\n",
        "# cc.set_conversion('s2tw')\n",
        "to_convert = \"\"\"作者：陈肖恩\n",
        "链接：https://www.zhihu.com/question/30550891/answer/48502337\n",
        "来源：知乎\n",
        "著作权归作者所有。商业转载请联系作者获得授权，非商业转载请注明出处。\n",
        "\n",
        "不太确定你的浏览方式，我只能说已知的：WP有繁简转换机制，所有页面的源码都是一样的（繁简书写混集），然后匿名用户会根据浏览器的语言偏好设置挑选最接近的，如果是登陆用户的话，则可以自行到用户设置调整。如果什么都没有调整过（匿名没zh系的语言偏好设置，登陆的没改动过用户设置），默认是zh-cn（大陆简体）如果是匿名没登陆的话，有可能是浏览器语言偏好没设置对，是zh，对应的就是源码模式，没繁简转换处理的；或者你看的就是页面就是源码模式，地址如<zh.wp.org(省略)>/zh/<页面名>。以上适用于PC网页版；移动网页版确认，使用PC网页版同样的机制；移动客户端版是独立开发，对于多书写体系支持好像不太好，但暂时没发现类似问题。附多一些东西：准确来说，WP的繁简转换分两部分构成，字词简单繁简替换和地区词转换，其实是同一个转换程序跑两次。整个语言代码转换分成三种：zh：源码，内容是繁简混集的zh-hant、zh-hans：繁简模式，将zh的源码转换成纯繁体字形或纯简体字形，使用的是内部自带的转换表（只针对字或少量词）和可以在前台配置的简体与繁体转换表。zh-hk、zh-cn、zh-tw、zh-mo、zh-sg：地区词模式，将上面的结果针对不同地区在整理一次用词差异，使用的是内部自带的转换表（只针对字或少量词）和5个地区专用转换表。以上是针对全站所有非特殊页面（除Special和Mediawiki这两个命名空间）的转换，每个页面也可以添加标记再调整一次转换。\"\"\"\n",
        "converted = cc.convert(to_convert)\n",
        "converted"
      ],
      "metadata": {
        "colab": {
          "base_uri": "https://localhost:8080/",
          "height": 191
        },
        "id": "TCzhVqYo0Ab6",
        "outputId": "2c2e9640-f508-434d-a796-630fb8177eb9"
      },
      "execution_count": 2,
      "outputs": [
        {
          "output_type": "execute_result",
          "data": {
            "text/plain": [
              "'作者：陳肖恩\\n鏈接：https://www.zhihu.com/question/30550891/answer/48502337\\n來源：知乎\\n著作權歸作者所有。商業轉載請聯繫作者獲得授權，非商業轉載請註明出處。\\n\\n不太確定你的瀏覽方式，我只能說已知的：WP有繁簡轉換機制，所有頁面的源碼都是一樣的（繁簡書寫混集），然後匿名用戶會根據瀏覽器的語言偏好設置挑選最接近的，如果是登陸用戶的話，則可以自行到用戶設置調整。如果什麼都沒有調整過（匿名沒zh系的語言偏好設置，登陸的沒改動過用戶設置），默認是zh-cn（大陸簡體）如果是匿名沒登陸的話，有可能是瀏覽器語言偏好沒設置對，是zh，對應的就是源碼模式，沒繁簡轉換處理的；或者你看的就是頁面就是源碼模式，地址如<zh.wp.org(省略)>/zh/<頁面名>。以上適用於PC網頁版；移動網頁版確認，使用PC網頁版同樣的機制；移動客戶端版是獨立開發，對於多書寫體系支持好像不太好，但暫時沒發現類似問題。附多一些東西：準確來說，WP的繁簡轉換分兩部分構成，字詞簡單繁簡替換和地區詞轉換，其實是同一個轉換程序跑兩次。整個語言代碼轉換分成三種：zh：源碼，內容是繁簡混集的zh-hant、zh-hans：繁簡模式，將zh的源碼轉換成純繁體字形或純簡體字形，使用的是內部自帶的轉換表（只針對字或少量詞）和可以在前臺配置的簡體與繁體轉換表。zh-hk、zh-cn、zh-tw、zh-mo、zh-sg：地區詞模式，將上面的結果針對不同地區在整理一次用詞差異，使用的是內部自帶的轉換表（只針對字或少量詞）和5個地區專用轉換表。以上是針對全站所有非特殊頁面（除Special和Mediawiki這兩個命名空間）的轉換，每個頁面也可以添加標記再調整一次轉換。'"
            ],
            "application/vnd.google.colaboratory.intrinsic+json": {
              "type": "string"
            }
          },
          "metadata": {},
          "execution_count": 2
        }
      ]
    },
    {
      "cell_type": "code",
      "source": [
        "news = \"\"\"高雄日前爆出劣質FLOWFLEX富樂快篩試劑無法判讀引發關注，新竹地檢署分案調查發現，進口商大鑫資訊公司得標高雄、台中、新竹等10多項政府採購快篩試劑案後，涉嫌違法進口中國大陸劣質「富樂家用新冠抗原快速檢測試劑FlowflexCOVID-19AntigenHomeTest」，混充美國製交貨，藉此牟取巨額暴利。\n",
        "\n",
        "檢察官翁貫育今（13）天指揮調查局台北市調查處及新竹縣調查站搜索大鑫公司、倉庫及負責人住家等共5處所，查扣富樂家用新冠抗原快速檢測試劑1400箱以上、超過45萬支試劑，並同步約談犯罪嫌疑人公司負責人朱壽暉、執行長黃南競等5人到案，目前正由調查官詢問中，晚間將移送新竹地檢署複訊。\n",
        "\n",
        "調查局指出，大鑫公司於111年5月10日獲食藥署核准輸入由美國Laboratories,Inc.製造已獲FDA緊急授權使用（EUA）之「富樂家用新冠抗原快速檢測試劑Flowflex COVID-19 Antigen Home Test」，取得國防部軍醫局、新竹縣竹北市公所、台中市政府衛生局、高雄市政府衛生局等十餘件政府採購標案。\n",
        "\n",
        "調查局續指，大鑫公司交貨時竟委託中國大陸艾康生物技術（杭州）有限公司生產包裝後運送至香港，再由香港以空運方式運送來台，並不實標示產地為「USA」，該公司不到1個月時間內已進口約237萬劑，但履約交付政府機關後發送民眾後，卻陸續經民眾反映無法呈現測試線（T）、品管線（C）之檢測結果。\"\"\""
      ],
      "metadata": {
        "id": "Wd0Csk181Pm8"
      },
      "execution_count": 3,
      "outputs": []
    },
    {
      "cell_type": "code",
      "source": [
        "# 分詞: 1.載入大辭典 2.載入自定義辭典\n",
        "import jieba\n",
        "from urllib.request import urlretrieve\n",
        "url = \"https://github.com/fxsjy/jieba/raw/master/extra_dict/dict.txt.big\"\n",
        "urlretrieve(url, \"dict.txt.big\")\n",
        "jieba.set_dictionary(\"dict.txt.big\")\n",
        "jieba.load_userdict(\"dict.news.txt\")"
      ],
      "metadata": {
        "colab": {
          "base_uri": "https://localhost:8080/"
        },
        "id": "3VPmQghLFhcA",
        "outputId": "9cadd51e-049f-44f6-8551-dfa48a78a76c"
      },
      "execution_count": 7,
      "outputs": [
        {
          "output_type": "stream",
          "name": "stderr",
          "text": [
            "Building prefix dict from /content/dict.txt.big ...\n",
            "Dumping model to file cache /tmp/jieba.u501edca284da514cb68b53a20324f4e3.cache\n",
            "Loading model cost 1.673 seconds.\n",
            "Prefix dict has been built successfully.\n"
          ]
        }
      ]
    },
    {
      "cell_type": "code",
      "source": [
        "\" \".join(jieba.cut(news))"
      ],
      "metadata": {
        "colab": {
          "base_uri": "https://localhost:8080/",
          "height": 209
        },
        "id": "JMgSqyR1CQPE",
        "outputId": "8fa2598d-2293-48b6-c589-7d0d90d5763a"
      },
      "execution_count": 8,
      "outputs": [
        {
          "output_type": "execute_result",
          "data": {
            "text/plain": [
              "'高雄 日前 爆出 劣質 FLOWFLEX 富樂 快篩試劑 無法 判讀 引發 關注 ， 新竹 地檢署 分案 調查 發現 ， 進口商 大鑫 資訊 公司 得標 高雄 、 台中 、 新竹 等 10 多項 政府 採購 快篩試劑 案 後 ， 涉嫌 違法 進口 中國大陸 劣質 「 富樂 家用 新冠 抗原 快速 檢測 試劑 FlowflexCOVID - 19AntigenHomeTest 」 ， 混充 美國 製 交貨 ， 藉此 牟取 巨額 暴利 。 \\n \\n 檢察官 翁貫育 今 （ 13 ） 天 指揮 調查局 台北市 調查 處及 新竹縣 調查 站 搜索 大鑫 公司 、 倉庫 及 負責人 住家 等 共 5 處所 ， 查扣 富樂 家用 新冠 抗原 快速 檢測 試劑 1400 箱 以上 、 超過 45 萬支 試劑 ， 並 同步 約談 犯罪 嫌疑人 公司 負責人 朱壽暉 、 執行長 黃南 競等 5 人 到案 ， 目前 正由 調查 官 詢問 中 ， 晚間 將 移送 新竹 地檢署 複 訊 。 \\n \\n 調查局 指出 ， 大鑫 公司 於 111 年 5 月 10 日 獲食 藥署 核准 輸入 由 美國 Laboratories , Inc . 製造 已獲 FDA 緊急 授權 使用 （ EUA ） 之 「 富樂 家用 新冠 抗原 快速 檢測 試劑 Flowflex   COVID - 19   Antigen   Home   Test 」 ， 取得 國防部 軍醫 局 、 新竹縣 竹北 市公所 、 台中市 政府 衛生局 、 高雄市 政府 衛生局 等 十餘件 政府 採購 標案 。 \\n \\n 調查局 續指 ， 大鑫 公司 交貨 時竟 委託 中國大陸 艾康 生物 技術 （ 杭州 ） 有限公司 生產 包裝 後 運送 至 香港 ， 再 由 香港 以 空運 方式 運 送來 台 ， 並不實 標示 產地 為 「 USA 」 ， 該 公司 不到 1 個 月 時間 內 已 進口 約 237 萬劑 ， 但 履約 交付 政府 機關 後 發送 民眾 後 ， 卻 陸續 經民眾 反映 無法 呈現 測試 線 （ T ） 、 品 管線 （ C ） 之 檢測 結果 。'"
            ],
            "application/vnd.google.colaboratory.intrinsic+json": {
              "type": "string"
            }
          },
          "metadata": {},
          "execution_count": 8
        }
      ]
    },
    {
      "cell_type": "code",
      "source": [
        "import jieba.analyse\n",
        "jieba.analyse.extract_tags(news)\n",
        "jieba.analyse.extract_tags(news, withWeight=True)\n",
        "jieba.analyse.extract_tags(news, withWeight=True, allowPOS=[\"nr\", \"ns\", \"nt\", \"nw\", \"nz\"])\n",
        "jieba.analyse.extract_tags(news, topK=None, withWeight=True, allowPOS=[\"n\", \"nr\", \"ns\", \"nt\", \"nw\", \"nz\"])"
      ],
      "metadata": {
        "colab": {
          "base_uri": "https://localhost:8080/"
        },
        "id": "f-j6A2rw7Ah6",
        "outputId": "6c63f355-24db-4f59-932a-fd28cb2179ab"
      },
      "execution_count": 6,
      "outputs": [
        {
          "output_type": "execute_result",
          "data": {
            "text/plain": [
              "[('富樂', 0.4929801032123711),\n",
              " ('試劑', 0.4929801032123711),\n",
              " ('大鑫', 0.4826166216329897),\n",
              " ('新冠', 0.36973507740927836),\n",
              " ('調查局', 0.36973507740927836),\n",
              " ('新竹', 0.30771445154814436),\n",
              " ('家用', 0.2712612042386598),\n",
              " ('抗原', 0.270897343158866),\n",
              " ('劣質', 0.24649005160618556),\n",
              " ('無法', 0.24649005160618556),\n",
              " ('中國大陸', 0.24649005160618556),\n",
              " ('美國', 0.24649005160618556),\n",
              " ('交貨', 0.24649005160618556),\n",
              " ('新竹縣', 0.24649005160618556),\n",
              " ('負責人', 0.24649005160618556),\n",
              " ('衛生局', 0.24649005160618556),\n",
              " ('政府', 0.2355294202072165),\n",
              " ('公司', 0.21670948104618554),\n",
              " ('市公所', 0.14330595517525774),\n",
              " ('分案', 0.12324502580309278),\n",
              " ('進口商', 0.12324502580309278),\n",
              " ('資訊', 0.12324502580309278),\n",
              " ('標高', 0.12324502580309278),\n",
              " ('檢察官', 0.12324502580309278),\n",
              " ('翁貫', 0.12324502580309278),\n",
              " ('倉庫', 0.12324502580309278),\n",
              " ('朱壽暉', 0.12324502580309278),\n",
              " ('執行長', 0.12324502580309278),\n",
              " ('黃南', 0.12324502580309278),\n",
              " ('藥署', 0.12324502580309278),\n",
              " ('國防部', 0.12324502580309278),\n",
              " ('軍醫', 0.12324502580309278),\n",
              " ('竹北', 0.12324502580309278),\n",
              " ('標案', 0.12324502580309278),\n",
              " ('續指', 0.12324502580309278),\n",
              " ('委託', 0.12324502580309278),\n",
              " ('艾康', 0.12324502580309278),\n",
              " ('技術', 0.12324502580309278),\n",
              " ('空運', 0.12324502580309278),\n",
              " ('產地', 0.12324502580309278),\n",
              " ('時間', 0.12324502580309278),\n",
              " ('萬劑', 0.12324502580309278),\n",
              " ('機關', 0.12324502580309278),\n",
              " ('民眾', 0.12324502580309278),\n",
              " ('經民眾', 0.12324502580309278),\n",
              " ('管線', 0.12324502580309278),\n",
              " ('結果', 0.12324502580309278),\n",
              " ('香港', 0.11983744013814433),\n",
              " ('藉此', 0.11472256628556701),\n",
              " ('高雄市', 0.11098127253608246),\n",
              " ('台中市', 0.10971733107216496),\n",
              " ('住家', 0.10695172296288659),\n",
              " ('台北市', 0.09980587574020619),\n",
              " ('暴利', 0.09035957953536082),\n",
              " ('嫌疑人', 0.08429992319608247),\n",
              " ('核准', 0.08036994246969072),\n",
              " ('杭州', 0.06559499991969073),\n",
              " ('生物', 0.06098839445608247),\n",
              " ('有限公司', 0.05354320504051546),\n",
              " ('方式', 0.04949992092134021)]"
            ]
          },
          "metadata": {},
          "execution_count": 6
        }
      ]
    }
  ]
}