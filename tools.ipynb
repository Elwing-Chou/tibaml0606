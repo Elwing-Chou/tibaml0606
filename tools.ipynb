{
  "nbformat": 4,
  "nbformat_minor": 0,
  "metadata": {
    "colab": {
      "name": "tools.ipynb",
      "provenance": [],
      "authorship_tag": "ABX9TyN8OUQ0MwP54r5L5gNEuxv3",
      "include_colab_link": true
    },
    "kernelspec": {
      "name": "python3",
      "display_name": "Python 3"
    },
    "language_info": {
      "name": "python"
    }
  },
  "cells": [
    {
      "cell_type": "markdown",
      "metadata": {
        "id": "view-in-github",
        "colab_type": "text"
      },
      "source": [
        "<a href=\"https://colab.research.google.com/github/Elwing-Chou/tibaml0606/blob/main/tools.ipynb\" target=\"_parent\"><img src=\"https://colab.research.google.com/assets/colab-badge.svg\" alt=\"Open In Colab\"/></a>"
      ]
    },
    {
      "cell_type": "code",
      "execution_count": null,
      "metadata": {
        "id": "wisqe6-OzEss"
      },
      "outputs": [],
      "source": [
        "!pip install opencc-python-reimplemented"
      ]
    },
    {
      "cell_type": "code",
      "source": [
        "from opencc import OpenCC\n",
        "cc = OpenCC(\"s2tw\")  # convert from Simplified Chinese to Traditional Chinese\n",
        "# can also set conversion by calling set_conversion\n",
        "# cc.set_conversion('s2tw')\n",
        "to_convert = \"\"\"作者：陈肖恩\n",
        "链接：https://www.zhihu.com/question/30550891/answer/48502337\n",
        "来源：知乎\n",
        "著作权归作者所有。商业转载请联系作者获得授权，非商业转载请注明出处。\n",
        "\n",
        "不太确定你的浏览方式，我只能说已知的：WP有繁简转换机制，所有页面的源码都是一样的（繁简书写混集），然后匿名用户会根据浏览器的语言偏好设置挑选最接近的，如果是登陆用户的话，则可以自行到用户设置调整。如果什么都没有调整过（匿名没zh系的语言偏好设置，登陆的没改动过用户设置），默认是zh-cn（大陆简体）如果是匿名没登陆的话，有可能是浏览器语言偏好没设置对，是zh，对应的就是源码模式，没繁简转换处理的；或者你看的就是页面就是源码模式，地址如<zh.wp.org(省略)>/zh/<页面名>。以上适用于PC网页版；移动网页版确认，使用PC网页版同样的机制；移动客户端版是独立开发，对于多书写体系支持好像不太好，但暂时没发现类似问题。附多一些东西：准确来说，WP的繁简转换分两部分构成，字词简单繁简替换和地区词转换，其实是同一个转换程序跑两次。整个语言代码转换分成三种：zh：源码，内容是繁简混集的zh-hant、zh-hans：繁简模式，将zh的源码转换成纯繁体字形或纯简体字形，使用的是内部自带的转换表（只针对字或少量词）和可以在前台配置的简体与繁体转换表。zh-hk、zh-cn、zh-tw、zh-mo、zh-sg：地区词模式，将上面的结果针对不同地区在整理一次用词差异，使用的是内部自带的转换表（只针对字或少量词）和5个地区专用转换表。以上是针对全站所有非特殊页面（除Special和Mediawiki这两个命名空间）的转换，每个页面也可以添加标记再调整一次转换。\"\"\"\n",
        "converted = cc.convert(to_convert)\n",
        "converted"
      ],
      "metadata": {
        "id": "TCzhVqYo0Ab6"
      },
      "execution_count": null,
      "outputs": []
    },
    {
      "cell_type": "code",
      "source": [
        "news = \"\"\"高雄日前爆出劣質FLOWFLEX富樂快篩試劑無法判讀引發關注，新竹地檢署分案調查發現，進口商大鑫資訊公司得標高雄、台中、新竹等10多項政府採購快篩試劑案後，涉嫌違法進口中國大陸劣質「富樂家用新冠抗原快速檢測試劑FlowflexCOVID-19AntigenHomeTest」，混充美國製交貨，藉此牟取巨額暴利。\n",
        "\n",
        "檢察官翁貫育今（13）天指揮調查局台北市調查處及新竹縣調查站搜索大鑫公司、倉庫及負責人住家等共5處所，查扣富樂家用新冠抗原快速檢測試劑1400箱以上、超過45萬支試劑，並同步約談犯罪嫌疑人公司負責人朱壽暉、執行長黃南競等5人到案，目前正由調查官詢問中，晚間將移送新竹地檢署複訊。\n",
        "\n",
        "調查局指出，大鑫公司於111年5月10日獲食藥署核准輸入由美國Laboratories,Inc.製造已獲FDA緊急授權使用（EUA）之「富樂家用新冠抗原快速檢測試劑Flowflex COVID-19 Antigen Home Test」，取得國防部軍醫局、新竹縣竹北市公所、台中市政府衛生局、高雄市政府衛生局等十餘件政府採購標案。\n",
        "\n",
        "調查局續指，大鑫公司交貨時竟委託中國大陸艾康生物技術（杭州）有限公司生產包裝後運送至香港，再由香港以空運方式運送來台，並不實標示產地為「USA」，該公司不到1個月時間內已進口約237萬劑，但履約交付政府機關後發送民眾後，卻陸續經民眾反映無法呈現測試線（T）、品管線（C）之檢測結果。\"\"\""
      ],
      "metadata": {
        "id": "Wd0Csk181Pm8"
      },
      "execution_count": 3,
      "outputs": []
    },
    {
      "cell_type": "code",
      "source": [
        "import jieba.analyse\n",
        "jieba.analyse.extract_tags(news)"
      ],
      "metadata": {
        "colab": {
          "base_uri": "https://localhost:8080/"
        },
        "id": "f-j6A2rw7Ah6",
        "outputId": "038cf022-466c-47ff-9b37-0da1b13709bf"
      },
      "execution_count": 4,
      "outputs": [
        {
          "output_type": "stream",
          "name": "stderr",
          "text": [
            "Building prefix dict from the default dictionary ...\n",
            "Dumping model to file cache /tmp/jieba.cache\n",
            "Loading model cost 1.031 seconds.\n",
            "Prefix dict has been built successfully.\n"
          ]
        },
        {
          "output_type": "execute_result",
          "data": {
            "text/plain": [
              "['調查',\n",
              " '新竹',\n",
              " '試劑',\n",
              " '富樂',\n",
              " '新冠',\n",
              " '檢測',\n",
              " '大鑫',\n",
              " '家用',\n",
              " '抗原',\n",
              " '劣質',\n",
              " '無法',\n",
              " '地檢署',\n",
              " '進口',\n",
              " '10',\n",
              " '採購',\n",
              " '調查局',\n",
              " '負責人',\n",
              " '衛生局',\n",
              " '政府',\n",
              " '公司']"
            ]
          },
          "metadata": {},
          "execution_count": 4
        }
      ]
    }
  ]
}