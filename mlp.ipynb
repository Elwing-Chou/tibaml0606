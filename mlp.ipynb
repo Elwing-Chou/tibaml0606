{
  "nbformat": 4,
  "nbformat_minor": 0,
  "metadata": {
    "colab": {
      "name": "mlp.ipynb",
      "provenance": [],
      "authorship_tag": "ABX9TyPMnoIeeJ7vkYeVun7N7515",
      "include_colab_link": true
    },
    "kernelspec": {
      "name": "python3",
      "display_name": "Python 3"
    },
    "language_info": {
      "name": "python"
    }
  },
  "cells": [
    {
      "cell_type": "markdown",
      "metadata": {
        "id": "view-in-github",
        "colab_type": "text"
      },
      "source": [
        "<a href=\"https://colab.research.google.com/github/Elwing-Chou/tibaml0606/blob/main/mlp.ipynb\" target=\"_parent\"><img src=\"https://colab.research.google.com/assets/colab-badge.svg\" alt=\"Open In Colab\"/></a>"
      ]
    },
    {
      "cell_type": "code",
      "execution_count": 2,
      "metadata": {
        "id": "e-l033_80OWJ"
      },
      "outputs": [],
      "source": [
        "# tensorflow 2:\n",
        "# a. keras已經是一份子\n",
        "# b. gpu會直接辨別(cuda/cudnn還是要裝), 不需要安裝tensorflow-gpu\n",
        "# c. eager mode(不用起tf.session就可以測試圖)\n",
        "from tensorflow.keras.datasets.mnist import load_data\n",
        "# ((x_train, y_train), (x_test, y_test))\n",
        "(x_train, y_train), (x_test, y_test) = load_data()"
      ]
    },
    {
      "cell_type": "code",
      "source": [
        "print(x_train.shape)\n",
        "print(y_train.shape)\n",
        "print(x_test.shape)\n",
        "print(y_test.shape)"
      ],
      "metadata": {
        "colab": {
          "base_uri": "https://localhost:8080/"
        },
        "id": "v5iO4f-K1kbz",
        "outputId": "1070d6e8-8020-4e90-ed6f-88d96f8574dc"
      },
      "execution_count": 4,
      "outputs": [
        {
          "output_type": "stream",
          "name": "stdout",
          "text": [
            "(60000, 28, 28)\n",
            "(60000,)\n",
            "(10000, 28, 28)\n",
            "(10000,)\n"
          ]
        }
      ]
    }
  ]
}