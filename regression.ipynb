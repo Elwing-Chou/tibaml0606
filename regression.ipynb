{
  "nbformat": 4,
  "nbformat_minor": 0,
  "metadata": {
    "colab": {
      "name": "regression.ipynb",
      "provenance": [],
      "authorship_tag": "ABX9TyPzAmTLr/hMSAIfCk2ke4cS",
      "include_colab_link": true
    },
    "kernelspec": {
      "name": "python3",
      "display_name": "Python 3"
    },
    "language_info": {
      "name": "python"
    }
  },
  "cells": [
    {
      "cell_type": "markdown",
      "metadata": {
        "id": "view-in-github",
        "colab_type": "text"
      },
      "source": [
        "<a href=\"https://colab.research.google.com/github/Elwing-Chou/tibaml0606/blob/main/regression.ipynb\" target=\"_parent\"><img src=\"https://colab.research.google.com/assets/colab-badge.svg\" alt=\"Open In Colab\"/></a>"
      ]
    },
    {
      "cell_type": "markdown",
      "source": [
        "CRIM：人均犯罪率\n",
        "\n",
        "ZN：25,000平方英尺以上民用土地的比例\n",
        "\n",
        "INDUS：城镇非零售业商用土地比例\n",
        "\n",
        "CHAS：是否邻近查尔斯河，1是邻近，0是不邻近\n",
        "\n",
        "NOX：一氧化氮浓度（千万分之一）\n",
        "\n",
        "RM：住宅的平均房间数\n",
        "\n",
        "AGE：自住且建于1940年前的房屋比例\n",
        "\n",
        "DIS：到5个波士顿就业中心的加权距离\n",
        "\n",
        "RAD：到高速公路的便捷度指数\n",
        "\n",
        "TAX：每万元的房产税率\n",
        "\n",
        "PTRATIO：城镇学生教师比例\n",
        "\n",
        "B： 1000(Bk − 0.63)2 其中Bk是城镇中黑人比例\n",
        "\n",
        "LSTAT：低收入人群比例\n",
        "\n",
        "ans：自住房中位数价格，单位是千元"
      ],
      "metadata": {
        "id": "QpYq4R_X-HG_"
      }
    },
    {
      "cell_type": "code",
      "execution_count": null,
      "metadata": {
        "id": "IMOfyTOn-zsT"
      },
      "outputs": [],
      "source": [
        "# 整理資料/資料預處理\n",
        "# pandas兩個型態: DataFrame(表格, 2D)/Series(一行/一列, 1D)\n",
        "# 資料的量到底要多少才夠?\n",
        "# 看你的問題的難易度來決定(簡單: 少一點 難: 多一點) 欄位數量(少: 簡單 多: 難)\n",
        "# ML: 千-萬  DL: 萬-十萬\n",
        "import pandas as pd\n",
        "from sklearn.datasets import load_boston\n",
        "boston = load_boston()\n",
        "df = pd.DataFrame(boston[\"data\"], columns=boston[\"feature_names\"])\n",
        "df[\"ans\"] = boston[\"target\"]\n",
        "# df.to_csv(\"boston.csv\", encoding=\"utf-8\", index=False)\n",
        "df"
      ]
    },
    {
      "cell_type": "code",
      "source": [
        "# 切成兩份\n",
        "# 資料整理/預處理: pandas 機器學習: numpy\n",
        "import numpy as np\n",
        "# 型態: numpy array\n",
        "x = np.array(df.drop([\"ans\"], axis=1))\n",
        "y = np.array(df[\"ans\"])"
      ],
      "metadata": {
        "id": "itN4s-KGEz4Q"
      },
      "execution_count": 2,
      "outputs": []
    },
    {
      "cell_type": "code",
      "source": [
        "# 大部分人會9:1/8:2切\n",
        "from sklearn.model_selection import train_test_split\n",
        "# [90%x, 10%x, 90%y, 10%y]\n",
        "x_train, x_test, y_train, y_test = train_test_split(x, y, test_size=0.1)"
      ],
      "metadata": {
        "id": "LVJqpzwxGsCT"
      },
      "execution_count": 3,
      "outputs": []
    }
  ]
}